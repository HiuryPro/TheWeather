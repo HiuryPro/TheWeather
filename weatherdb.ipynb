{
 "cells": [
  {
   "cell_type": "code",
   "execution_count": 6,
   "metadata": {},
   "outputs": [],
   "source": [
    "import os\n",
    "import datetime\n",
    "from pymongo import MongoClient\n",
    "from dotenv import load_dotenv\n",
    "from bson import Decimal128"
   ]
  },
  {
   "cell_type": "code",
   "execution_count": 8,
   "metadata": {},
   "outputs": [],
   "source": [
    "load_dotenv('./.env')\n",
    "MONGODB_URI = os.environ['MONGODB_URI']\n",
    "OPTIONS = os.environ['OPTIONS']\n",
    "\n",
    "client = MongoClient(\n",
    "    MONGODB_URI+OPTIONS)\n",
    "db = client.WheatherDB\n",
    "dados_metereologicos = db.dados_metereologicos\n",
    "regiao = db.regiao"
   ]
  },
  {
   "cell_type": "code",
   "execution_count": null,
   "metadata": {},
   "outputs": [],
   "source": [
    "results = []\n",
    "print(dados_metereologicos.find(projection = {'_id': 0}))\n",
    "for dados in dados_metereologicos.find(projection={'_id': 0, 'id_regiao': 0}):\n",
    "    for key, value in dados.items():\n",
    "        if (type(value) == Decimal128):\n",
    "            dados[key] = float(str(dados[key]))\n",
    "        elif (type(value) == datetime.datetime):\n",
    "            dados[key] = dados[key].strftime('%d/%m/%y %H:%M:%S')\n",
    "    results.append(dados)\n"
   ]
  },
  {
   "cell_type": "code",
   "execution_count": null,
   "metadata": {},
   "outputs": [],
   "source": [
    "dados = [\n",
    "    {'umidade': 80.0, 'temperatura': 20.0, 'dt_criacao': '16/09/23 01:11:18', 'regiao': 'Unipam'},\n",
    "    {'umidade': 60.0, 'temperatura': 30.0, 'dt_criacao': '15/09/23 01:11:18', 'regiao': 'Unipam'},\n",
    "    {'temperatura': 22, 'umidade': 87.0, 'dt_criacao': '17/09/23 22:13:26', 'regiao': 'Caiçaras'}\n",
    "]\n",
    "\n",
    "resultado = []\n",
    "\n",
    "for dado in dados:\n",
    "    regiao = dado['regiao']\n",
    "    novo_dado = {'temperatura': dado.get('temperatura'), 'umidade': dado.get('umidade'), 'dt_criacao': dado.get('dt_criacao')}\n",
    "    \n",
    "    # Procurar se a região já está presente na lista resultado\n",
    "    regiao_existente = next((item for item in resultado if item['regiao'] == regiao), None)\n",
    "    \n",
    "    if regiao_existente:\n",
    "        regiao_existente['dados'].append(novo_dado)\n",
    "    else:\n",
    "        resultado.append({'regiao': regiao, 'dados': [novo_dado]})\n",
    "\n",
    "print(resultado)"
   ]
  },
  {
   "cell_type": "code",
   "execution_count": 25,
   "metadata": {},
   "outputs": [
    {
     "name": "stdout",
     "output_type": "stream",
     "text": [
      "[{'regiao': 'Unipam', 'dadosM': [{'umidade': 80.0, 'temperatura': 20.0, 'dt_criacao': datetime.datetime(2023, 9, 16, 1, 11, 18, 965000)}, {'umidade': 60.0, 'temperatura': 30.0, 'dt_criacao': datetime.datetime(2023, 9, 15, 1, 11, 18, 965000)}]}, {'regiao': 'Caiçaras', 'dadosM': [{'temperatura': 22, 'umidade': Decimal128('87'), 'dt_criacao': datetime.datetime(2023, 9, 17, 22, 13, 26, 171000)}]}]\n",
      "[{'regiao': 'Unipam', 'dadosM': [{'umidade': 80.0, 'temperatura': 20.0, 'dt_criacao': '16/09/23 01:11:18'}, {'umidade': 60.0, 'temperatura': 30.0, 'dt_criacao': '15/09/23 01:11:18'}]}, {'regiao': 'Caiçaras', 'dadosM': [{'temperatura': 22, 'umidade': 87.0, 'dt_criacao': '17/09/23 22:13:26'}]}]\n"
     ]
    }
   ],
   "source": [
    "lookup = {\"$lookup\": {\"from\": \"dados_metereologicos\",\n",
    "                        \"localField\": \"_id\",\n",
    "                        \"foreignField\": \"id_regiao\",\n",
    "                        \"as\": \"dadosM\"}}\n",
    "project = {\"$project\": {'_id':0, 'cidade':0, 'dadosM._id': 0, 'dadosM.id_regiao':0, 'dadosM.regiao':0}}\n",
    "\n",
    "pipeline = [lookup, project]\n",
    "\n",
    "results = list(regiao.aggregate(pipeline))\n",
    "print(results)\n",
    "\n",
    "resultsFilter = []\n",
    "\n",
    "for dados in results:\n",
    "    for maps in dados['dadosM']:\n",
    "        for key, value in maps.items():\n",
    "            if (type(value) == Decimal128):\n",
    "                maps[key] = float(str(maps[key]))\n",
    "            elif (type(value) == datetime.datetime):\n",
    "                maps[key] = maps[key].strftime('%d/%m/%y %H:%M:%S')\n",
    "    resultsFilter.append(dados)\n",
    "\n",
    "print(resultsFilter)"
   ]
  }
 ],
 "metadata": {
  "kernelspec": {
   "display_name": ".venv",
   "language": "python",
   "name": "python3"
  },
  "language_info": {
   "codemirror_mode": {
    "name": "ipython",
    "version": 3
   },
   "file_extension": ".py",
   "mimetype": "text/x-python",
   "name": "python",
   "nbconvert_exporter": "python",
   "pygments_lexer": "ipython3",
   "version": "3.10.11"
  }
 },
 "nbformat": 4,
 "nbformat_minor": 2
}
